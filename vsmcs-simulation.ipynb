{
 "cells": [
  {
   "cell_type": "code",
   "execution_count": null,
   "metadata": {},
   "outputs": [],
   "source": [
    "from simulate import *\n",
    "\n",
    "from datetime import datetime\n",
    "from os import getcwd, makedirs, path\n",
    "from shutil import copyfile\n",
    "from time import time\n",
    "from PIL import Image\n",
    "\n",
    "from IPython.display import HTML\n",
    "\n",
    "\n",
    "# Image preprocessing\n",
    "binary_threshold = 10\n",
    "\n",
    "# Connected components\n",
    "connection_radius = 2\n",
    "\n",
    "# Latice and region creation\n",
    "lattice_radius = 25\n",
    "lattice_stride = 25\n",
    "min_component_size = 2\n",
    "\n",
    "# Simulation\n",
    "num_free_cells = 150\n",
    "neighborhood = 5\n",
    "max_iterations = 10\n",
    "num_simulations = 100\n",
    "\n",
    "# Meta\n",
    "verbose = True\n",
    "\n",
    "image = Image.open(\"images/binary.jpg\")\n",
    "# image = Image.open(\"images/Cap-3-20x-vessels-blackandwhite.tif\")\n",
    "# image = Image.open(\"images/Cap-2-vessels-blackandwhite-40X.tif\")\n",
    "# image = Image.open(\"images/Art-8-vessels-blackandwhite 20x.tif\")\n",
    "# image = Image.open(\"images/Cap-2-binarized.tif\")\n",
    "\n",
    "%matplotlib inline\n",
    "%load_ext autoreload\n",
    "%autoreload 2\n",
    "%precision 3"
   ]
  },
  {
   "cell_type": "code",
   "execution_count": null,
   "metadata": {},
   "outputs": [],
   "source": [
    "new_dirname = path.join(getcwd(), datetime.now().strftime(\"%Y-%m-%d_%H-%M-%S\"))\n",
    "makedirs(new_dirname)\n",
    "\n",
    "# Copy the configuration file to the directory so that we can see\n",
    "# the values that generated the outputs\n",
    "copyfile(\"./configuration.py\", path.join(new_dirname, \"configuration.py\"))\n",
    "\n",
    "# Force the image to be square\n",
    "# TODO: ask Ryan if we can expect most images to be about 512x512\n",
    "square_image = image.resize((512, 512))\n",
    "\n",
    "start = time()\n",
    "binary_image = binarize_and_threshold_image(square_image, binary_threshold)\n",
    "if verbose:\n",
    "    print(binary_image.shape, binary_image.dtype)\n",
    "    print(f\"Time to binarize the input image: {time() - start:0.3f}s\\n\")\n",
    "\n",
    "start = time()\n",
    "adj_list = create_matrix_from_adjacency_list(binary_image, connection_radius)\n",
    "if verbose:\n",
    "    print(\"Number of vertices in graph:\", len(adj_list))\n",
    "    print(f\"Time to create graph: {time() - start:0.3f}s\\n\")\n",
    "\n",
    "start = time()\n",
    "components = find_connected_compnents(adj_list)\n",
    "num_components = len(components)\n",
    "if verbose:\n",
    "    print(\"Number of components:\", num_components)\n",
    "    print(f\"Time to compute connected components: {time() - start:0.3f}s\\n\")\n",
    "\n",
    "start = time()\n",
    "lattice = create_lattice_of_component_counts(\n",
    "    binary_image.shape,\n",
    "    lattice_radius,\n",
    "    lattice_stride,\n",
    "    components,\n",
    "    min_component_size,\n",
    ")\n",
    "if verbose:\n",
    "    print(f\"Time to create lattice: {time() - start:0.3f}s\\n\")\n",
    "\n",
    "start = time()\n",
    "brightness = get_brightnesses_from_image(square_image, lattice_stride)\n",
    "regions = compute_region_scores(lattice, brightness)\n",
    "if verbose:\n",
    "    print(f\"Time to create regions: {time() - start:0.3f}s\\n\")\n",
    "\n",
    "final_panes, animation_data = run_animations(\n",
    "    regions,\n",
    "    neighborhood,\n",
    "    max_iterations,\n",
    "    num_simulations,\n",
    "    num_free_cells,\n",
    ")"
   ]
  },
  {
   "cell_type": "code",
   "execution_count": null,
   "metadata": {
    "scrolled": false
   },
   "outputs": [],
   "source": [
    "plot_figures(\n",
    "    components,\n",
    "    square_image,\n",
    "    final_panes,\n",
    "    binary_image,\n",
    "    lattice,\n",
    "    regions,\n",
    "    new_dirname,\n",
    ")"
   ]
  },
  {
   "cell_type": "code",
   "execution_count": null,
   "metadata": {},
   "outputs": [],
   "source": [
    "animation = generate_animation_image(animation_data, new_dirname);"
   ]
  },
  {
   "cell_type": "code",
   "execution_count": null,
   "metadata": {
    "scrolled": true
   },
   "outputs": [],
   "source": [
    "HTML(animation.to_jshtml())"
   ]
  },
  {
   "cell_type": "code",
   "execution_count": null,
   "metadata": {},
   "outputs": [],
   "source": [
    "# Single animation\n",
    "animation = generate_animation_image([animation_data[0]], new_dirname);"
   ]
  },
  {
   "cell_type": "code",
   "execution_count": null,
   "metadata": {},
   "outputs": [],
   "source": [
    "HTML(animation.to_jshtml())"
   ]
  },
  {
   "cell_type": "code",
   "execution_count": null,
   "metadata": {},
   "outputs": [],
   "source": [
    "grid, animation = animate_cells(num_free_cells, regions, max_iterations, neighborhood)"
   ]
  },
  {
   "cell_type": "code",
   "execution_count": null,
   "metadata": {},
   "outputs": [],
   "source": [
    "plt.imshow(grid);"
   ]
  },
  {
   "cell_type": "code",
   "execution_count": null,
   "metadata": {},
   "outputs": [],
   "source": []
  }
 ],
 "metadata": {
  "file_extension": ".py",
  "kernelspec": {
   "display_name": "Python 3",
   "language": "python",
   "name": "python3"
  },
  "language_info": {
   "codemirror_mode": {
    "name": "ipython",
    "version": 3
   },
   "file_extension": ".py",
   "mimetype": "text/x-python",
   "name": "python",
   "nbconvert_exporter": "python",
   "pygments_lexer": "ipython3",
   "version": "3.8.5"
  },
  "mimetype": "text/x-python",
  "name": "python",
  "npconvert_exporter": "python",
  "pygments_lexer": "ipython3",
  "version": 3
 },
 "nbformat": 4,
 "nbformat_minor": 2
}
